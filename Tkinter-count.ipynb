{
 "cells": [
  {
   "cell_type": "code",
   "execution_count": null,
   "id": "d25fe78c",
   "metadata": {},
   "outputs": [],
   "source": [
    "from tkinter import *\n",
    "root = Tk()\n",
    "\n",
    "#variable is stored in the root object\n",
    "root.counter = 0\n",
    "\n",
    "def clicked():\n",
    "    root.counter += 1\n",
    "    L['text'] = 'Button clicked: ' + str(root.counter)\n",
    "        \n",
    "\n",
    "b = Button(root, text=\"Click Me\", command=clicked)\n",
    "b.pack()\n",
    "\n",
    "L = Label(root, text=\"No clicks yet.\")\n",
    "L.pack()\n",
    "\n",
    "root.mainloop()"
   ]
  },
  {
   "cell_type": "code",
   "execution_count": null,
   "id": "84130f8b",
   "metadata": {},
   "outputs": [],
   "source": []
  }
 ],
 "metadata": {
  "kernelspec": {
   "display_name": "Python 3",
   "language": "python",
   "name": "python3"
  },
  "language_info": {
   "codemirror_mode": {
    "name": "ipython",
    "version": 3
   },
   "file_extension": ".py",
   "mimetype": "text/x-python",
   "name": "python",
   "nbconvert_exporter": "python",
   "pygments_lexer": "ipython3",
   "version": "3.8.8"
  }
 },
 "nbformat": 4,
 "nbformat_minor": 5
}
